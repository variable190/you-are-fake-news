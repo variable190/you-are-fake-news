{
 "cells": [
  {
   "cell_type": "markdown",
   "metadata": {
    "colab": {
     "base_uri": "https://localhost:8080/",
     "height": 54
    },
    "colab_type": "code",
    "executionInfo": {
     "elapsed": 774,
     "status": "ok",
     "timestamp": 1581980282080,
     "user": {
      "displayName": "Daniel Hayes",
      "photoUrl": "",
      "userId": "12788680190180463707"
     },
     "user_tz": 0
    },
    "id": "vFe9gnKNAMfC",
    "outputId": "a0f5e2a7-1e71-4d56-d3b5-0758a71ca679"
   },
   "source": [
    "# British Extremes #\n",
    "This dataset is made up of tweets that link to news outlets that are seen as extremely partisan. The Daily Mail on the right, labelled 0, and The Guardian on the left, labelled 1. The set contains about 110,000 tweets.\n",
    "\n",
    "Import libraries and load dataset"
   ]
  },
  {
   "cell_type": "code",
   "execution_count": null,
   "metadata": {},
   "outputs": [],
   "source": [
    "import tensorflow as tf\n",
    "from tensorflow import keras\n",
    "from collections import Counter\n",
    "import pandas as pd\n",
    "import matplotlib.pyplot as plt\n",
    "\n",
    "DATASET = 'british_extremes'\n",
    "\n",
    "tf.compat.v1.enable_eager_execution()\n",
    "tf.keras.backend.clear_session()"
   ]
  },
  {
   "cell_type": "code",
   "execution_count": 0,
   "metadata": {
    "colab": {},
    "colab_type": "code",
    "id": "zoG_shRn_-9M"
   },
   "outputs": [],
   "source": [
    "with open('..\\\\dataset_creation\\\\datasets\\\\'+DATASET+'\\\\tweets.txt', encoding=\"utf8\") as f:\n",
    "    raw_tweets = f.readlines()\n",
    "\n",
    "with open('..\\\\dataset_creation\\\\datasets\\\\'+DATASET+'\\\\labels.txt')as f:\n",
    "    raw_labels = f.readlines()\n",
    "\n",
    "target_dataset = list()\n",
    "for label in raw_labels:\n",
    "    if label == '1\\n':\n",
    "        target_dataset.append(1)\n",
    "    else:\n",
    "        target_dataset.append(0)\n",
    "\n",
    "SPLIT = round(len(raw_tweets)*0.1)"
   ]
  },
  {
   "cell_type": "markdown",
   "metadata": {},
   "source": [
    "Split test set and preprocess data"
   ]
  },
  {
   "cell_type": "code",
   "execution_count": 0,
   "metadata": {
    "colab": {},
    "colab_type": "code",
    "id": "BqRq8011_-9W"
   },
   "outputs": [],
   "source": [
    "def preprocess(X_batch, y_batch):\n",
    "    X_batch = tf.strings.substr(X_batch, 0, 240)\n",
    "    X_batch = tf.strings.regex_replace(X_batch, b\"<br\\\\s*/?>\", b\" \")\n",
    "    X_batch = tf.strings.regex_replace(X_batch, b\"[^a-zA-Z']\", b\" \")\n",
    "    X_batch = tf.strings.split(X_batch)\n",
    "    y_batch = tf.convert_to_tensor(y_batch, dtype=tf.int64)\n",
    "    return X_batch.to_tensor(default_value=b\"<pad>\"), y_batch"
   ]
  },
  {
   "cell_type": "code",
   "execution_count": 0,
   "metadata": {
    "colab": {},
    "colab_type": "code",
    "id": "KgrffA2C_-9f"
   },
   "outputs": [],
   "source": [
    "X_batch, y_batch = preprocess(raw_tweets, target_dataset)"
   ]
  },
  {
   "cell_type": "code",
   "execution_count": 0,
   "metadata": {
    "colab": {},
    "colab_type": "code",
    "id": "sGf5IgxS_-9n"
   },
   "outputs": [],
   "source": [
    "X_test, X_train_full = X_batch[:SPLIT], X_batch[SPLIT:]\n",
    "y_test, y_train_full = y_batch[:SPLIT], y_batch[SPLIT:]"
   ]
  },
  {
   "cell_type": "markdown",
   "metadata": {},
   "source": [
    "Create vocabulary lookup table"
   ]
  },
  {
   "cell_type": "code",
   "execution_count": 0,
   "metadata": {
    "colab": {},
    "colab_type": "code",
    "id": "4qPz-7w-_-9v"
   },
   "outputs": [],
   "source": [
    "vocabulary = Counter()\n",
    "for tweet in X_train_full:\n",
    "    vocabulary.update(list(tweet.numpy()))"
   ]
  },
  {
   "cell_type": "code",
   "execution_count": 0,
   "metadata": {
    "colab": {},
    "colab_type": "code",
    "id": "XN1RbRfe_-92"
   },
   "outputs": [],
   "source": [
    "vocab_size = 10000\n",
    "truncated_vocabulary = [\n",
    "    word for word, count in vocabulary.most_common()[:vocab_size]\n",
    "]"
   ]
  },
  {
   "cell_type": "code",
   "execution_count": 0,
   "metadata": {
    "colab": {},
    "colab_type": "code",
    "id": "K1_u19b8_-9_"
   },
   "outputs": [],
   "source": [
    "words = tf.constant(truncated_vocabulary)\n",
    "word_ids = tf.range(len(truncated_vocabulary), dtype=tf.int64)\n",
    "vocab_init = tf.lookup.KeyValueTensorInitializer(words, word_ids)\n",
    "num_oov_buckets = 1000\n",
    "table = tf.lookup.StaticVocabularyTable(vocab_init, num_oov_buckets)"
   ]
  },
  {
   "cell_type": "markdown",
   "metadata": {},
   "source": [
    "Split validation set and encode words with look up table"
   ]
  },
  {
   "cell_type": "code",
   "execution_count": 0,
   "metadata": {
    "colab": {},
    "colab_type": "code",
    "id": "miWjfo-i_--E"
   },
   "outputs": [],
   "source": [
    "def encode_words(dataset_input):\n",
    "    return table.lookup(dataset_input)"
   ]
  },
  {
   "cell_type": "code",
   "execution_count": 0,
   "metadata": {
    "colab": {},
    "colab_type": "code",
    "id": "pAAewZSy_--I"
   },
   "outputs": [],
   "source": [
    "X_valid, X_train = encode_words(X_train_full[:SPLIT]), encode_words(X_train_full[SPLIT:])\n",
    "y_valid, y_train = y_train_full[:SPLIT], y_train_full[SPLIT:]"
   ]
  },
  {
   "cell_type": "markdown",
   "metadata": {},
   "source": [
    "Define, compile and run model"
   ]
  },
  {
   "cell_type": "code",
   "execution_count": 0,
   "metadata": {
    "colab": {},
    "colab_type": "code",
    "id": "4cyJDzrS_--L"
   },
   "outputs": [],
   "source": [
    "embed_size = 8\n",
    "model7 = keras.models.Sequential([\n",
    "    keras.layers.Embedding(vocab_size + num_oov_buckets, embed_size, mask_zero=True),\n",
    "    keras.layers.GRU(embed_size, dropout=0.5, activation=\"sigmoid\", return_sequences=True),\n",
    "    keras.layers.GRU(embed_size, dropout=0.5, activation=\"sigmoid\"),\n",
    "    keras.layers.Dense(1, activation=\"sigmoid\")\n",
    "])"
   ]
  },
  {
   "cell_type": "code",
   "execution_count": 0,
   "metadata": {
    "colab": {},
    "colab_type": "code",
    "id": "Qr7JA8J8_--S"
   },
   "outputs": [],
   "source": [
    "model7.compile(loss=\"binary_crossentropy\", optimizer=\"adam\", metrics=[\"accuracy\"])"
   ]
  },
  {
   "cell_type": "code",
   "execution_count": 14,
   "metadata": {
    "colab": {
     "base_uri": "https://localhost:8080/",
     "height": 289
    },
    "colab_type": "code",
    "executionInfo": {
     "elapsed": 609,
     "status": "ok",
     "timestamp": 1581980359658,
     "user": {
      "displayName": "Daniel Hayes",
      "photoUrl": "",
      "userId": "12788680190180463707"
     },
     "user_tz": 0
    },
    "id": "sFqNFmKI_--V",
    "outputId": "ed56e741-4092-4177-ca7b-7158bd92f1e8"
   },
   "outputs": [
    {
     "name": "stdout",
     "output_type": "stream",
     "text": [
      "Model: \"sequential\"\n",
      "_________________________________________________________________\n",
      "Layer (type)                 Output Shape              Param #   \n",
      "=================================================================\n",
      "embedding (Embedding)        (None, None, 8)           88000     \n",
      "_________________________________________________________________\n",
      "gru (GRU)                    (None, None, 8)           432       \n",
      "_________________________________________________________________\n",
      "gru_1 (GRU)                  (None, 8)                 432       \n",
      "_________________________________________________________________\n",
      "dense (Dense)                (None, 1)                 9         \n",
      "=================================================================\n",
      "Total params: 88,873\n",
      "Trainable params: 88,873\n",
      "Non-trainable params: 0\n",
      "_________________________________________________________________\n"
     ]
    }
   ],
   "source": [
    "model7.summary()"
   ]
  },
  {
   "cell_type": "code",
   "execution_count": 15,
   "metadata": {
    "colab": {
     "base_uri": "https://localhost:8080/",
     "height": 374
    },
    "colab_type": "code",
    "executionInfo": {
     "elapsed": 2024406,
     "status": "ok",
     "timestamp": 1581982386293,
     "user": {
      "displayName": "Daniel Hayes",
      "photoUrl": "",
      "userId": "12788680190180463707"
     },
     "user_tz": 0
    },
    "id": "89RaDnJh_--a",
    "outputId": "26fab6c8-d7d7-4933-b296-8be31ebf4654",
    "scrolled": true
   },
   "outputs": [
    {
     "name": "stdout",
     "output_type": "stream",
     "text": [
      "Train on 88966 samples, validate on 11121 samples\n",
      "Epoch 1/10\n",
      "88966/88966 [==============================] - 210s 2ms/sample - loss: 0.6106 - accuracy: 0.6471 - val_loss: 0.4309 - val_accuracy: 0.8149\n",
      "Epoch 2/10\n",
      "88966/88966 [==============================] - 209s 2ms/sample - loss: 0.4534 - accuracy: 0.8026 - val_loss: 0.3907 - val_accuracy: 0.8351\n",
      "Epoch 3/10\n",
      "88966/88966 [==============================] - 211s 2ms/sample - loss: 0.4176 - accuracy: 0.8244 - val_loss: 0.3764 - val_accuracy: 0.8417\n",
      "Epoch 4/10\n",
      "88966/88966 [==============================] - 210s 2ms/sample - loss: 0.3953 - accuracy: 0.8358 - val_loss: 0.3703 - val_accuracy: 0.8435\n",
      "Epoch 5/10\n",
      "88966/88966 [==============================] - 209s 2ms/sample - loss: 0.3790 - accuracy: 0.8430 - val_loss: 0.3649 - val_accuracy: 0.8456\n",
      "Epoch 6/10\n",
      "88966/88966 [==============================] - 200s 2ms/sample - loss: 0.3659 - accuracy: 0.8477 - val_loss: 0.3605 - val_accuracy: 0.8485\n",
      "Epoch 7/10\n",
      "88966/88966 [==============================] - 194s 2ms/sample - loss: 0.3538 - accuracy: 0.8535 - val_loss: 0.3645 - val_accuracy: 0.8472\n",
      "Epoch 8/10\n",
      "88966/88966 [==============================] - 194s 2ms/sample - loss: 0.3475 - accuracy: 0.8557 - val_loss: 0.3623 - val_accuracy: 0.8498\n",
      "Epoch 9/10\n",
      "88966/88966 [==============================] - 193s 2ms/sample - loss: 0.3399 - accuracy: 0.8583 - val_loss: 0.3715 - val_accuracy: 0.8489\n",
      "Epoch 10/10\n",
      "88966/88966 [==============================] - 193s 2ms/sample - loss: 0.3304 - accuracy: 0.8636 - val_loss: 0.3849 - val_accuracy: 0.8461\n"
     ]
    }
   ],
   "source": [
    "history7 = model7.fit(X_train, y_train, epochs=10, batch_size=32, validation_data=(X_valid, y_valid))"
   ]
  },
  {
   "cell_type": "code",
   "execution_count": 16,
   "metadata": {
    "colab": {
     "base_uri": "https://localhost:8080/",
     "height": 324
    },
    "colab_type": "code",
    "executionInfo": {
     "elapsed": 1240,
     "status": "ok",
     "timestamp": 1581982661886,
     "user": {
      "displayName": "Daniel Hayes",
      "photoUrl": "",
      "userId": "12788680190180463707"
     },
     "user_tz": 0
    },
    "id": "zetalqry_--e",
    "outputId": "d3fafafa-b9ef-4b96-f802-9787138fc725"
   },
   "outputs": [
    {
     "data": {
      "image/png": "[encoded data removed]",
      "text/plain": [
       "<Figure size 720x360 with 1 Axes>"
      ]
     },
     "metadata": {
      "tags": []
     },
     "output_type": "display_data"
    }
   ],
   "source": [
    "pd.DataFrame(history7.history).plot(figsize=(10, 5))\n",
    "plt.grid(True)\n",
    "plt.gca().set_ylim(0, 1)\n",
    "plt.gca().set_xlim(0, 9)\n",
    "plt.show()"
   ]
  },
  {
   "cell_type": "code",
   "execution_count": 0,
   "metadata": {
    "colab": {},
    "colab_type": "code",
    "id": "ZFUlnmQX_--i"
   },
   "outputs": [],
   "source": [
    "X_test_encoded = encode_words(X_test)"
   ]
  },
  {
   "cell_type": "code",
   "execution_count": 18,
   "metadata": {
    "colab": {
     "base_uri": "https://localhost:8080/",
     "height": 51
    },
    "colab_type": "code",
    "executionInfo": {
     "elapsed": 6335,
     "status": "ok",
     "timestamp": 1581982674486,
     "user": {
      "displayName": "Daniel Hayes",
      "photoUrl": "",
      "userId": "12788680190180463707"
     },
     "user_tz": 0
    },
    "id": "kyBaljnR_--o",
    "outputId": "489e55ae-44d1-49a4-fd66-af473a3ab714"
   },
   "outputs": [
    {
     "name": "stdout",
     "output_type": "stream",
     "text": [
      "11121/11121 [==============================] - 5s 458us/sample - loss: 0.3986 - accuracy: 0.8375\n"
     ]
    },
    {
     "data": {
      "text/plain": [
       "[0.39864552162521316, 0.83751464]"
      ]
     },
     "execution_count": 18,
     "metadata": {
      "tags": []
     },
     "output_type": "execute_result"
    }
   ],
   "source": [
    "model7.evaluate(X_test_encoded, y_test)"
   ]
  },
  {
   "cell_type": "code",
   "execution_count": 20,
   "metadata": {
    "colab": {
     "base_uri": "https://localhost:8080/",
     "height": 697
    },
    "colab_type": "code",
    "executionInfo": {
     "elapsed": 1360,
     "status": "ok",
     "timestamp": 1581982691218,
     "user": {
      "displayName": "Daniel Hayes",
      "photoUrl": "",
      "userId": "12788680190180463707"
     },
     "user_tz": 0
    },
    "id": "gkgJBPvI_--x",
    "outputId": "4e7b87db-332d-4718-8504-b88f7ec6e1de"
   },
   "outputs": [
    {
     "name": "stdout",
     "output_type": "stream",
     "text": [
      "1.\n",
      "Prediction: 0.66\n",
      "Actual: 1\n",
      "\n",
      "2.\n",
      "Prediction: 0.34\n",
      "Actual: 1\n",
      "\n",
      "3.\n",
      "Prediction: 0.55\n",
      "Actual: 1\n",
      "\n",
      "4.\n",
      "Prediction: 0.08\n",
      "Actual: 0\n",
      "\n",
      "5.\n",
      "Prediction: 0.06\n",
      "Actual: 0\n",
      "\n",
      "6.\n",
      "Prediction: 0.61\n",
      "Actual: 0\n",
      "\n",
      "7.\n",
      "Prediction: 0.06\n",
      "Actual: 0\n",
      "\n",
      "8.\n",
      "Prediction: 0.09\n",
      "Actual: 0\n",
      "\n",
      "9.\n",
      "Prediction: 0.48\n",
      "Actual: 0\n",
      "\n",
      "10.\n",
      "Prediction: 0.64\n",
      "Actual: 0\n",
      "\n"
     ]
    }
   ],
   "source": [
    "X_new = X_test_encoded[:10]\n",
    "y_proba = model7.predict(X_new)\n",
    "for i in range(len(y_proba)):\n",
    "    print(str(i+1) + \".\\nPrediction: \" + str(y_proba[i][0].round(2)) + \"\\nActual: \" + str(y_test[i].numpy()) + \"\\n\")"
   ]
  },
  {
   "cell_type": "code",
   "execution_count": 0,
   "metadata": {
    "colab": {},
    "colab_type": "code",
    "id": "-6AbHktj_-_P"
   },
   "outputs": [],
   "source": [
    "model7.save(\"saved_models\\\\\" + DATASET + '.h5')"
   ]
  },
  {
   "cell_type": "code",
   "execution_count": 0,
   "metadata": {
    "colab": {},
    "colab_type": "code",
    "id": "_Z2PxLz6NSNW"
   },
   "outputs": [],
   "source": [
    "new_model = keras.models.load_model(\"saved_models\\\\\" + DATASET + '.h5')"
   ]
  },
  {
   "cell_type": "code",
   "execution_count": 23,
   "metadata": {
    "colab": {
     "base_uri": "https://localhost:8080/",
     "height": 697
    },
    "colab_type": "code",
    "executionInfo": {
     "elapsed": 1729,
     "status": "ok",
     "timestamp": 1581982703741,
     "user": {
      "displayName": "Daniel Hayes",
      "photoUrl": "",
      "userId": "12788680190180463707"
     },
     "user_tz": 0
    },
    "id": "sWG8WPZBP8bq",
    "outputId": "73a48091-ec20-4003-eae1-8a4781a63a02"
   },
   "outputs": [
    {
     "name": "stdout",
     "output_type": "stream",
     "text": [
      "1.\n",
      "Prediction: 0.66\n",
      "Actual: 1\n",
      "\n",
      "2.\n",
      "Prediction: 0.34\n",
      "Actual: 1\n",
      "\n",
      "3.\n",
      "Prediction: 0.55\n",
      "Actual: 1\n",
      "\n",
      "4.\n",
      "Prediction: 0.08\n",
      "Actual: 0\n",
      "\n",
      "5.\n",
      "Prediction: 0.06\n",
      "Actual: 0\n",
      "\n",
      "6.\n",
      "Prediction: 0.61\n",
      "Actual: 0\n",
      "\n",
      "7.\n",
      "Prediction: 0.06\n",
      "Actual: 0\n",
      "\n",
      "8.\n",
      "Prediction: 0.09\n",
      "Actual: 0\n",
      "\n",
      "9.\n",
      "Prediction: 0.48\n",
      "Actual: 0\n",
      "\n",
      "10.\n",
      "Prediction: 0.64\n",
      "Actual: 0\n",
      "\n"
     ]
    }
   ],
   "source": [
    "X_new = X_test_encoded[:10]\n",
    "new_y_proba = new_model.predict(X_new)\n",
    "for i in range(len(new_y_proba)):\n",
    "    print(str(i+1) + \".\\nPrediction: \" + str(new_y_proba[i][0].round(2)) + \"\\nActual: \" + str(y_test[i].numpy()) + \"\\n\")"
   ]
  },
  {
   "cell_type": "code",
   "execution_count": 0,
   "metadata": {
    "colab": {},
    "colab_type": "code",
    "id": "Dcr-hIKC2oYN"
   },
   "outputs": [],
   "source": []
  }
 ],
 "metadata": {
  "colab": {
   "collapsed_sections": [],
   "name": "neural_networkv2.ipynb",
   "provenance": []
  },
  "kernelspec": {
   "display_name": "Python 3",
   "language": "python",
   "name": "python3"
  },
  "language_info": {
   "codemirror_mode": {
    "name": "ipython",
    "version": 3
   },
   "file_extension": ".py",
   "mimetype": "text/x-python",
   "name": "python",
   "nbconvert_exporter": "python",
   "pygments_lexer": "ipython3",
   "version": "3.7.4"
  }
 },
 "nbformat": 4,
 "nbformat_minor": 1
}
