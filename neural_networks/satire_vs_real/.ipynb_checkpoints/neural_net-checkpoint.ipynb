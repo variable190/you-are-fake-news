{
 "cells": [
  {
   "cell_type": "code",
   "execution_count": 1,
   "metadata": {},
   "outputs": [],
   "source": [
    "# Readlines into list of tweets and labels\n",
    "f = open('tweets.txt', encoding=\"utf8\")\n",
    "raw_tweets = f.readlines()\n",
    "f.close()\n",
    "\n",
    "f = open('labels.txt')\n",
    "raw_labels = f.readlines()\n",
    "f.close()\n",
    "\n",
    "# Create list of output targets\n",
    "target_dataset = list()\n",
    "for label in raw_labels:\n",
    "    if label == '1\\n':\n",
    "        target_dataset.append(1)\n",
    "    else:\n",
    "        target_dataset.append(0)"
   ]
  },
  {
   "cell_type": "code",
   "execution_count": 2,
   "metadata": {},
   "outputs": [],
   "source": [
    "import tensorflow as tf\n",
    "\n",
    "def preprocess(X_batch, y_batch):\n",
    "    X_batch = tf.strings.substr(X_batch, 0, 240)\n",
    "    X_batch = tf.strings.regex_replace(X_batch, b\"<br\\\\s*/?>\", b\" \")\n",
    "    X_batch = tf.strings.regex_replace(X_batch, b\"[^a-zA-Z']\", b\" \")\n",
    "    X_batch = tf.strings.split(X_batch)\n",
    "    y_batch = tf.convert_to_tensor(y_batch, dtype=tf.int64)\n",
    "    return X_batch.to_tensor(default_value=b\"<pad>\"), y_batch"
   ]
  },
  {
   "cell_type": "code",
   "execution_count": 3,
   "metadata": {},
   "outputs": [],
   "source": [
    "X_batch, y_batch = preprocess(raw_tweets, target_dataset)"
   ]
  },
  {
   "cell_type": "code",
   "execution_count": 4,
   "metadata": {},
   "outputs": [],
   "source": [
    "X_test, X_train_full = X_batch[:2000], X_batch[2000:]\n",
    "y_test, y_train_full = y_batch[:2000], y_batch[2000:]"
   ]
  },
  {
   "cell_type": "code",
   "execution_count": 5,
   "metadata": {},
   "outputs": [],
   "source": [
    "from collections import Counter\n",
    "import numpy\n",
    "\n",
    "vocabulary = Counter()\n",
    "for review in X_train_full:\n",
    "    vocabulary.update(list(review.numpy()))"
   ]
  },
  {
   "cell_type": "code",
   "execution_count": 6,
   "metadata": {},
   "outputs": [],
   "source": [
    "vocab_size = 15000\n",
    "truncated_vocabulary = [\n",
    "    word for word, count in vocabulary.most_common()[:vocab_size]\n",
    "]"
   ]
  },
  {
   "cell_type": "code",
   "execution_count": 7,
   "metadata": {},
   "outputs": [],
   "source": [
    "words = tf.constant(truncated_vocabulary)\n",
    "word_ids = tf.range(len(truncated_vocabulary), dtype=tf.int64)\n",
    "vocab_init = tf.lookup.KeyValueTensorInitializer(words, word_ids)\n",
    "num_oov_buckets = 1000\n",
    "table = tf.lookup.StaticVocabularyTable(vocab_init, num_oov_buckets)"
   ]
  },
  {
   "cell_type": "code",
   "execution_count": 8,
   "metadata": {},
   "outputs": [],
   "source": [
    "def encode_words(dataset_input):\n",
    "    return table.lookup(dataset_input)"
   ]
  },
  {
   "cell_type": "code",
   "execution_count": 9,
   "metadata": {},
   "outputs": [],
   "source": [
    "with open('vocabulary.txt', 'w') as file:\n",
    "    for listitem in truncated_vocabulary:\n",
    "        file.write('%s\\n' % listitem)"
   ]
  },
  {
   "cell_type": "code",
   "execution_count": 9,
   "metadata": {},
   "outputs": [],
   "source": [
    "X_valid, X_train = encode_words(X_train_full[:2000]), encode_words(X_train_full[2000:])\n",
    "y_valid, y_train = y_train_full[:2000], y_train_full[2000:]"
   ]
  },
  {
   "cell_type": "code",
   "execution_count": 10,
   "metadata": {},
   "outputs": [],
   "source": [
    "from tensorflow import keras\n",
    "\n",
    "embed_size = 128\n",
    "model = keras.models.Sequential([\n",
    "    keras.layers.Embedding(vocab_size + num_oov_buckets, embed_size, mask_zero=True),\n",
    "    keras.layers.GRU(128, return_sequences=True),\n",
    "    keras.layers.GRU(128),\n",
    "    keras.layers.Dense(1, activation=\"sigmoid\")\n",
    "])"
   ]
  },
  {
   "cell_type": "code",
   "execution_count": 11,
   "metadata": {},
   "outputs": [],
   "source": [
    "model.compile(loss=\"binary_crossentropy\", optimizer=\"adam\", metrics=[\"accuracy\"])"
   ]
  },
  {
   "cell_type": "code",
   "execution_count": 12,
   "metadata": {},
   "outputs": [
    {
     "name": "stdout",
     "output_type": "stream",
     "text": [
      "Model: \"sequential\"\n",
      "_________________________________________________________________\n",
      "Layer (type)                 Output Shape              Param #   \n",
      "=================================================================\n",
      "embedding (Embedding)        (None, None, 128)         2048000   \n",
      "_________________________________________________________________\n",
      "gru (GRU)                    (None, None, 128)         99072     \n",
      "_________________________________________________________________\n",
      "gru_1 (GRU)                  (None, 128)               99072     \n",
      "_________________________________________________________________\n",
      "dense (Dense)                (None, 1)                 129       \n",
      "=================================================================\n",
      "Total params: 2,246,273\n",
      "Trainable params: 2,246,273\n",
      "Non-trainable params: 0\n",
      "_________________________________________________________________\n"
     ]
    }
   ],
   "source": [
    "model.summary()"
   ]
  },
  {
   "cell_type": "code",
   "execution_count": 13,
   "metadata": {},
   "outputs": [
    {
     "name": "stdout",
     "output_type": "stream",
     "text": [
      "Train on 10900 samples, validate on 2000 samples\n",
      "Epoch 1/5\n",
      "10900/10900 [==============================] - 50s 5ms/sample - loss: 0.2186 - accuracy: 0.8986 - val_loss: 0.1401 - val_accuracy: 0.9370\n",
      "Epoch 2/5\n",
      "10900/10900 [==============================] - 40s 4ms/sample - loss: 0.0557 - accuracy: 0.9787 - val_loss: 0.1427 - val_accuracy: 0.9420\n",
      "Epoch 3/5\n",
      "10900/10900 [==============================] - 43s 4ms/sample - loss: 0.0155 - accuracy: 0.9944 - val_loss: 0.2382 - val_accuracy: 0.9355\n",
      "Epoch 4/5\n",
      "10900/10900 [==============================] - 42s 4ms/sample - loss: 0.0088 - accuracy: 0.9970 - val_loss: 0.2479 - val_accuracy: 0.9385\n",
      "Epoch 5/5\n",
      "10900/10900 [==============================] - 41s 4ms/sample - loss: 0.0087 - accuracy: 0.9975 - val_loss: 0.2689 - val_accuracy: 0.9320\n"
     ]
    }
   ],
   "source": [
    "history = model.fit(X_train, y_train, epochs=5, batch_size=32, validation_data=(X_valid, y_valid))"
   ]
  },
  {
   "cell_type": "code",
   "execution_count": 15,
   "metadata": {},
   "outputs": [
    {
     "data": {
      "image/png": "[encoded data removed]",
      "text/plain": [
       "<Figure size 576x360 with 1 Axes>"
      ]
     },
     "metadata": {
      "needs_background": "light"
     },
     "output_type": "display_data"
    }
   ],
   "source": [
    "# Represent learning curves using pandas and matplotlib\n",
    "import pandas as pd\n",
    "import matplotlib.pyplot as plt\n",
    "\n",
    "pd.DataFrame(history.history).plot(figsize=(8, 5))\n",
    "plt.grid(True)\n",
    "plt.gca().set_ylim(0, 1)\n",
    "plt.show()"
   ]
  },
  {
   "cell_type": "code",
   "execution_count": 16,
   "metadata": {},
   "outputs": [],
   "source": [
    "X_test_encoded = encode_words(X_test)"
   ]
  },
  {
   "cell_type": "code",
   "execution_count": 17,
   "metadata": {},
   "outputs": [
    {
     "name": "stdout",
     "output_type": "stream",
     "text": [
      "2000/2000 [==============================] - 1s 694us/sample - loss: 0.3346 - accuracy: 0.9290\n"
     ]
    },
    {
     "data": {
      "text/plain": [
       "[0.334608592286706, 0.929]"
      ]
     },
     "execution_count": 17,
     "metadata": {},
     "output_type": "execute_result"
    }
   ],
   "source": [
    "model.evaluate(X_test_encoded, y_test)"
   ]
  },
  {
   "cell_type": "code",
   "execution_count": 18,
   "metadata": {},
   "outputs": [
    {
     "name": "stdout",
     "output_type": "stream",
     "text": [
      "Prediction: 1.0\n",
      "Actual: 1\n",
      "\n",
      "Prediction: 0.0\n",
      "Actual: 0\n",
      "\n",
      "Prediction: 0.0\n",
      "Actual: 1\n",
      "\n",
      "Prediction: 0.0\n",
      "Actual: 0\n",
      "\n",
      "Prediction: 0.0\n",
      "Actual: 0\n",
      "\n",
      "Prediction: 0.0\n",
      "Actual: 0\n",
      "\n",
      "Prediction: 0.0\n",
      "Actual: 0\n",
      "\n",
      "Prediction: 0.0\n",
      "Actual: 0\n",
      "\n",
      "Prediction: 1.0\n",
      "Actual: 1\n",
      "\n",
      "Prediction: 1.0\n",
      "Actual: 1\n",
      "\n"
     ]
    }
   ],
   "source": [
    "X_new = X_test_encoded[:10]\n",
    "y_proba = model.predict(X_new)\n",
    "for i in range(len(y_proba)):\n",
    "    print(\"Prediction: \" + str(y_proba[i][0].round(2)) + \"\\nActual: \" + str(y_test[i].numpy()) + \"\\n\")"
   ]
  },
  {
   "cell_type": "code",
   "execution_count": 19,
   "metadata": {},
   "outputs": [],
   "source": [
    "model.save('saved_model_test.h5')"
   ]
  },
  {
   "cell_type": "code",
   "execution_count": 20,
   "metadata": {},
   "outputs": [],
   "source": [
    "new_model = keras.models.load_model('saved_model_test.h5')"
   ]
  },
  {
   "cell_type": "code",
   "execution_count": 21,
   "metadata": {},
   "outputs": [
    {
     "name": "stdout",
     "output_type": "stream",
     "text": [
      "Prediction: 1.0\n",
      "Actual: 1\n",
      "\n",
      "Prediction: 0.0\n",
      "Actual: 0\n",
      "\n",
      "Prediction: 0.0\n",
      "Actual: 1\n",
      "\n",
      "Prediction: 0.0\n",
      "Actual: 0\n",
      "\n",
      "Prediction: 0.0\n",
      "Actual: 0\n",
      "\n",
      "Prediction: 0.0\n",
      "Actual: 0\n",
      "\n",
      "Prediction: 0.0\n",
      "Actual: 0\n",
      "\n",
      "Prediction: 0.0\n",
      "Actual: 0\n",
      "\n",
      "Prediction: 1.0\n",
      "Actual: 1\n",
      "\n",
      "Prediction: 1.0\n",
      "Actual: 1\n",
      "\n"
     ]
    }
   ],
   "source": [
    "new_y_proba = new_model.predict(X_new)\n",
    "for i in range(len(new_y_proba)):\n",
    "    print(\"Prediction: \" + str(new_y_proba[i][0].round(2)) + \"\\nActual: \" + str(y_test[i].numpy()) + \"\\n\")"
   ]
  },
  {
   "cell_type": "code",
   "execution_count": 25,
   "metadata": {},
   "outputs": [
    {
     "data": {
      "text/plain": [
       "<tf.Tensor: shape=(53,), dtype=string, numpy=\n",
       "array([b'Whatever', b'we', b'can', b'do', b'to', b'unite', b'the',\n",
       "       b'people', b'Neighbors', b'Come', b'Together', b'To', b'Watch',\n",
       "       b'BMW', b'Owner', b'Struggle', b'In', b'Snow', b'<pad>', b'<pad>',\n",
       "       b'<pad>', b'<pad>', b'<pad>', b'<pad>', b'<pad>', b'<pad>',\n",
       "       b'<pad>', b'<pad>', b'<pad>', b'<pad>', b'<pad>', b'<pad>',\n",
       "       b'<pad>', b'<pad>', b'<pad>', b'<pad>', b'<pad>', b'<pad>',\n",
       "       b'<pad>', b'<pad>', b'<pad>', b'<pad>', b'<pad>', b'<pad>',\n",
       "       b'<pad>', b'<pad>', b'<pad>', b'<pad>', b'<pad>', b'<pad>',\n",
       "       b'<pad>', b'<pad>', b'<pad>'], dtype=object)>"
      ]
     },
     "execution_count": 25,
     "metadata": {},
     "output_type": "execute_result"
    }
   ],
   "source": [
    "X_test[0]"
   ]
  },
  {
   "cell_type": "code",
   "execution_count": 26,
   "metadata": {},
   "outputs": [
    {
     "data": {
      "text/plain": [
       "<tf.Tensor: shape=(53,), dtype=int64, numpy=\n",
       "array([ 9145,   132,    74,   163,     2, 15328,     1,   101,  5617,\n",
       "         976,  4276,    10,   183,  5618,  3768,  5619,    16,  5620,\n",
       "           0,     0,     0,     0,     0,     0,     0,     0,     0,\n",
       "           0,     0,     0,     0,     0,     0,     0,     0,     0,\n",
       "           0,     0,     0,     0,     0,     0,     0,     0,     0,\n",
       "           0,     0,     0,     0,     0,     0,     0,     0],\n",
       "      dtype=int64)>"
      ]
     },
     "execution_count": 26,
     "metadata": {},
     "output_type": "execute_result"
    }
   ],
   "source": [
    "X_new[0]"
   ]
  },
  {
   "cell_type": "code",
   "execution_count": 10,
   "metadata": {},
   "outputs": [
    {
     "data": {
      "text/plain": [
       "'2.0.0'"
      ]
     },
     "execution_count": 10,
     "metadata": {},
     "output_type": "execute_result"
    }
   ],
   "source": [
    "tf.__version__"
   ]
  },
  {
   "cell_type": "code",
   "execution_count": 11,
   "metadata": {},
   "outputs": [
    {
     "data": {
      "text/plain": [
       "['Whatever we can do to unite the people. Neighbors Come Together To Watch BMW Owner Struggle In Snow \\n']"
      ]
     },
     "execution_count": 11,
     "metadata": {},
     "output_type": "execute_result"
    }
   ],
   "source": [
    "raw_tweets[:1]"
   ]
  },
  {
   "cell_type": "code",
   "execution_count": 14,
   "metadata": {},
   "outputs": [],
   "source": [
    "tweet_test, label_test = preprocess(raw_tweets[:1], target_dataset[:1])"
   ]
  },
  {
   "cell_type": "code",
   "execution_count": 15,
   "metadata": {},
   "outputs": [
    {
     "name": "stdout",
     "output_type": "stream",
     "text": [
      "tf.Tensor(\n",
      "[[b'Whatever' b'we' b'can' b'do' b'to' b'unite' b'the' b'people'\n",
      "  b'Neighbors' b'Come' b'Together' b'To' b'Watch' b'BMW' b'Owner'\n",
      "  b'Struggle' b'In' b'Snow']], shape=(1, 18), dtype=string)\n"
     ]
    }
   ],
   "source": [
    "print(tweet_test)"
   ]
  },
  {
   "cell_type": "code",
   "execution_count": 17,
   "metadata": {},
   "outputs": [
    {
     "name": "stdout",
     "output_type": "stream",
     "text": [
      "[b'RepAllenTX', b'cnnturk', b'MikeGianella', b'wondered', b'Babylongbee', b'elhombrelibre', b'modified', b'OOTT', b'Bubba', b'joethorn']\n"
     ]
    }
   ],
   "source": [
    "print(truncated_vocabulary[-10:])"
   ]
  },
  {
   "cell_type": "code",
   "execution_count": 19,
   "metadata": {},
   "outputs": [
    {
     "ename": "AttributeError",
     "evalue": "'list' object has no attribute 'type'",
     "output_type": "error",
     "traceback": [
      "\u001b[1;31m---------------------------------------------------------------------------\u001b[0m",
      "\u001b[1;31mAttributeError\u001b[0m                            Traceback (most recent call last)",
      "\u001b[1;32m<ipython-input-19-ab9b4d72e48f>\u001b[0m in \u001b[0;36m<module>\u001b[1;34m\u001b[0m\n\u001b[1;32m----> 1\u001b[1;33m \u001b[0mtruncated_vocabulary\u001b[0m\u001b[1;33m.\u001b[0m\u001b[0mtype\u001b[0m\u001b[1;33m\u001b[0m\u001b[1;33m\u001b[0m\u001b[0m\n\u001b[0m",
      "\u001b[1;31mAttributeError\u001b[0m: 'list' object has no attribute 'type'"
     ]
    }
   ],
   "source": [
    "truncated_vocabulary.type"
   ]
  },
  {
   "cell_type": "code",
   "execution_count": 21,
   "metadata": {},
   "outputs": [
    {
     "ename": "TypeError",
     "evalue": "list indices must be integers or slices, not bytes",
     "output_type": "error",
     "traceback": [
      "\u001b[1;31m---------------------------------------------------------------------------\u001b[0m",
      "\u001b[1;31mTypeError\u001b[0m                                 Traceback (most recent call last)",
      "\u001b[1;32m<ipython-input-21-0840ad3ebd46>\u001b[0m in \u001b[0;36m<module>\u001b[1;34m\u001b[0m\n\u001b[0;32m      7\u001b[0m   \u001b[1;34mb'<pad>'\u001b[0m \u001b[1;34mb'<pad>'\u001b[0m \u001b[1;34mb'<pad>'\u001b[0m \u001b[1;34mb'<pad>'\u001b[0m \u001b[1;34mb'<pad>'\u001b[0m \u001b[1;34mb'<pad>'\u001b[0m \u001b[1;34mb'<pad>'\u001b[0m \u001b[1;34mb'<pad>'\u001b[0m\u001b[1;33m\u001b[0m\u001b[1;33m\u001b[0m\u001b[0m\n\u001b[0;32m      8\u001b[0m   b'<pad>' b'<pad>' b'<pad>' b'<pad>' b'<pad>' b'<pad>' b'<pad>' b'<pad>']\n\u001b[1;32m----> 9\u001b[1;33m  [b'pad' b'pad' b'pad' b'pad' b'pad' b'pad' b'pad' b'pad' b'pad' b'pad'\n\u001b[0m\u001b[0;32m     10\u001b[0m   \u001b[1;34mb'pad'\u001b[0m \u001b[1;34mb'pad'\u001b[0m \u001b[1;34mb'pad'\u001b[0m \u001b[1;34mb'pad'\u001b[0m \u001b[1;34mb'pad'\u001b[0m \u001b[1;34mb'pad'\u001b[0m \u001b[1;34mb'pad'\u001b[0m \u001b[1;34mb'pad'\u001b[0m \u001b[1;34mb'pad'\u001b[0m \u001b[1;34mb'pad'\u001b[0m\u001b[1;33m\u001b[0m\u001b[1;33m\u001b[0m\u001b[0m\n\u001b[0;32m     11\u001b[0m   \u001b[1;34mb'pad'\u001b[0m \u001b[1;34mb'pad'\u001b[0m \u001b[1;34mb'pad'\u001b[0m \u001b[1;34mb'pad'\u001b[0m \u001b[1;34mb'pad'\u001b[0m \u001b[1;34mb'pad'\u001b[0m \u001b[1;34mb'pad'\u001b[0m \u001b[1;34mb'pad'\u001b[0m \u001b[1;34mb'pad'\u001b[0m \u001b[1;34mb'pad'\u001b[0m\u001b[1;33m\u001b[0m\u001b[1;33m\u001b[0m\u001b[0m\n",
      "\u001b[1;31mTypeError\u001b[0m: list indices must be integers or slices, not bytes"
     ]
    }
   ],
   "source": [
    "encode_words(tf.Tensor(\n",
    "[[b'This' b'isn' b't' b'about' b'just' b'beating' b'Trump' b'It' b's'\n",
    "  b'about' b'which' b'Dem' b'has' b'the' b'largest' b'intersectional'\n",
    "  b'coalition' b'that' b'will' b'not' b'only' b'come' b'out' b'and'\n",
    "  b'vote' b'but' b'will' b'fight' b'tooth' b'and' b'nail' b'to'\n",
    "  b'dismantle' b'technocratic' b'neoliberalism' b'<pad>' b'<pad>'\n",
    "  b'<pad>' b'<pad>' b'<pad>' b'<pad>' b'<pad>' b'<pad>' b'<pad>' b'<pad>'\n",
    "  b'<pad>' b'<pad>' b'<pad>' b'<pad>' b'<pad>' b'<pad>' b'<pad>' b'<pad>']], shape=(2, 53), dtype=string))"
   ]
  },
  {
   "cell_type": "code",
   "execution_count": null,
   "metadata": {},
   "outputs": [],
   "source": []
  }
 ],
 "metadata": {
  "kernelspec": {
   "display_name": "Python 3",
   "language": "python",
   "name": "python3"
  },
  "language_info": {
   "codemirror_mode": {
    "name": "ipython",
    "version": 3
   },
   "file_extension": ".py",
   "mimetype": "text/x-python",
   "name": "python",
   "nbconvert_exporter": "python",
   "pygments_lexer": "ipython3",
   "version": "3.7.4"
  }
 },
 "nbformat": 4,
 "nbformat_minor": 2
}
